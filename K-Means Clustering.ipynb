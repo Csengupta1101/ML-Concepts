{
 "cells": [
  {
   "attachments": {},
   "cell_type": "markdown",
   "metadata": {},
   "source": [
    "#### K-Means Clustering"
   ]
  },
  {
   "attachments": {},
   "cell_type": "markdown",
   "metadata": {},
   "source": [
    "1.  This algorithm takes into consideration the centroid value of a given dataset points. based on those centroids clusters are formed.\n",
    "2.  Once the clusters are formed , it is then checked with euclidean distance that how far are other data points from all the clusters\n",
    "3.  Suppose there are two clusters c1 and c2 , our new datapoint's distance with c1 is 4.5 and with c2 is 14.6.\n",
    "4.  As the distance is less with c1 , hence we can safely add our new datapoint to the c1 cluster.\n",
    "5.  We have to remember that whenever we are adding a new data point to a cluster , that cluster's centroid needs to be recalculated again.\n",
    "6.  Then with the new centroid value of the cluster where data is added , we will go on and check next inline data points and their euclidean distance."
   ]
  },
  {
   "cell_type": "code",
   "execution_count": 34,
   "metadata": {},
   "outputs": [],
   "source": [
    "# Let's create a dataframe using pandas first for our calculation\n",
    "import pandas as pd\n",
    "df = pd.DataFrame(data=[[12,95],\n",
    "                  [10,86],\n",
    "                  [9,75],\n",
    "                  [11,98],\n",
    "                  [5,45],\n",
    "                  [6,59],\n",
    "                  [4,28]],columns=['Hours Studied','Marks Obtained'])"
   ]
  },
  {
   "cell_type": "code",
   "execution_count": 35,
   "metadata": {},
   "outputs": [
    {
     "data": {
      "text/html": [
       "<div>\n",
       "<style scoped>\n",
       "    .dataframe tbody tr th:only-of-type {\n",
       "        vertical-align: middle;\n",
       "    }\n",
       "\n",
       "    .dataframe tbody tr th {\n",
       "        vertical-align: top;\n",
       "    }\n",
       "\n",
       "    .dataframe thead th {\n",
       "        text-align: right;\n",
       "    }\n",
       "</style>\n",
       "<table border=\"1\" class=\"dataframe\">\n",
       "  <thead>\n",
       "    <tr style=\"text-align: right;\">\n",
       "      <th></th>\n",
       "      <th>Hours Studied</th>\n",
       "      <th>Marks Obtained</th>\n",
       "    </tr>\n",
       "  </thead>\n",
       "  <tbody>\n",
       "    <tr>\n",
       "      <th>0</th>\n",
       "      <td>12</td>\n",
       "      <td>95</td>\n",
       "    </tr>\n",
       "    <tr>\n",
       "      <th>1</th>\n",
       "      <td>10</td>\n",
       "      <td>86</td>\n",
       "    </tr>\n",
       "    <tr>\n",
       "      <th>2</th>\n",
       "      <td>9</td>\n",
       "      <td>75</td>\n",
       "    </tr>\n",
       "    <tr>\n",
       "      <th>3</th>\n",
       "      <td>11</td>\n",
       "      <td>98</td>\n",
       "    </tr>\n",
       "    <tr>\n",
       "      <th>4</th>\n",
       "      <td>5</td>\n",
       "      <td>45</td>\n",
       "    </tr>\n",
       "  </tbody>\n",
       "</table>\n",
       "</div>"
      ],
      "text/plain": [
       "   Hours Studied  Marks Obtained\n",
       "0             12              95\n",
       "1             10              86\n",
       "2              9              75\n",
       "3             11              98\n",
       "4              5              45"
      ]
     },
     "execution_count": 35,
     "metadata": {},
     "output_type": "execute_result"
    }
   ],
   "source": [
    "df.head()"
   ]
  },
  {
   "attachments": {},
   "cell_type": "markdown",
   "metadata": {},
   "source": [
    "Now just for understanding , let's take index 0 and 1 as our two clusters as C1 and C2. Then we will calculate all the other indexed data point's euclidean distance with these clusters."
   ]
  },
  {
   "cell_type": "code",
   "execution_count": 36,
   "metadata": {},
   "outputs": [],
   "source": [
    "c1 = df.iloc[0]\n",
    "c2 = df.iloc[1]"
   ]
  },
  {
   "cell_type": "code",
   "execution_count": 37,
   "metadata": {},
   "outputs": [
    {
     "data": {
      "text/plain": [
       "Hours Studied     12\n",
       "Marks Obtained    95\n",
       "Name: 0, dtype: int64"
      ]
     },
     "execution_count": 37,
     "metadata": {},
     "output_type": "execute_result"
    }
   ],
   "source": [
    "c1.head()"
   ]
  },
  {
   "cell_type": "code",
   "execution_count": 38,
   "metadata": {},
   "outputs": [
    {
     "data": {
      "text/plain": [
       "Hours Studied     10\n",
       "Marks Obtained    86\n",
       "Name: 1, dtype: int64"
      ]
     },
     "execution_count": 38,
     "metadata": {},
     "output_type": "execute_result"
    }
   ],
   "source": [
    "c2.head()"
   ]
  },
  {
   "attachments": {},
   "cell_type": "markdown",
   "metadata": {},
   "source": [
    "Now let's go ahead and calculate the euclidean distance of each data point with our clusters , we will check out both the numpy library procedure and the scikit learn library method over here."
   ]
  },
  {
   "cell_type": "code",
   "execution_count": 39,
   "metadata": {},
   "outputs": [],
   "source": [
    "#importing numpy and converting our clusters into numpy arrays\n",
    "import numpy as np\n",
    "c1 = np.array([c1])\n",
    "c2 = np.array([c2])\n"
   ]
  },
  {
   "cell_type": "code",
   "execution_count": 40,
   "metadata": {},
   "outputs": [
    {
     "data": {
      "text/plain": [
       "array([[12, 95]], dtype=int64)"
      ]
     },
     "execution_count": 40,
     "metadata": {},
     "output_type": "execute_result"
    }
   ],
   "source": [
    "c1"
   ]
  },
  {
   "cell_type": "code",
   "execution_count": 41,
   "metadata": {},
   "outputs": [
    {
     "data": {
      "text/plain": [
       "array([[10, 86]], dtype=int64)"
      ]
     },
     "execution_count": 41,
     "metadata": {},
     "output_type": "execute_result"
    }
   ],
   "source": [
    "c2"
   ]
  },
  {
   "attachments": {},
   "cell_type": "markdown",
   "metadata": {},
   "source": [
    "Now from our main dataframe let's take the 2nd indexed data and convert it into a numpy array. Then we will check this datapoint's euclidean distance with both c1 and c2"
   ]
  },
  {
   "cell_type": "code",
   "execution_count": 42,
   "metadata": {},
   "outputs": [],
   "source": [
    "d1 = np.array([df.iloc[2]])"
   ]
  },
  {
   "attachments": {},
   "cell_type": "markdown",
   "metadata": {},
   "source": [
    "Now we will check the distance of the d1 with both c1 and c2"
   ]
  },
  {
   "cell_type": "code",
   "execution_count": 43,
   "metadata": {},
   "outputs": [],
   "source": [
    "# first let's find out the sum of squares\n",
    "sum_sq_c1 = np.sum(np.square(d1-c1))\n",
    "sum_sq_c2 = np.sum(np.square(d1-c2))\n",
    "# Then let's square root the result and find out the euclidean distance\n",
    "ed_c1d1 = np.sqrt(sum_sq_c1)\n",
    "ed_c2d1 = np.sqrt(sum_sq_c2)"
   ]
  },
  {
   "cell_type": "code",
   "execution_count": 44,
   "metadata": {},
   "outputs": [
    {
     "name": "stdout",
     "output_type": "stream",
     "text": [
      "the euclidean distance between c1 cluster and d1 datapoint is 20.223748416156685\n",
      "the euclidean distance between c2 cluster and d1 datapoint is 11.045361017187261\n"
     ]
    }
   ],
   "source": [
    "# Let's print our results\n",
    "print(f\"the euclidean distance between c1 cluster and d1 datapoint is {ed_c1d1}\")\n",
    "print(f\"the euclidean distance between c2 cluster and d1 datapoint is {ed_c2d1}\")"
   ]
  },
  {
   "attachments": {},
   "cell_type": "markdown",
   "metadata": {},
   "source": [
    "We can see from thee above example that d1 datapoint's euclidean distance is lesser with c2 cluster , hence it can be safely said that d1 datapoint will belong in the c2 cluster. And as the c2 cluster is getting an added data point , hence it's centroid needs to be calculated again. But first let's check the euclidean distance with sklearn library method as well."
   ]
  },
  {
   "cell_type": "code",
   "execution_count": 45,
   "metadata": {},
   "outputs": [
    {
     "name": "stdout",
     "output_type": "stream",
     "text": [
      "the euclidean distance between c1 cluster and d1 datapoint with sklearn method is [[20.22374842]]\n",
      "the euclidean distance between c2 cluster and d1 datapoint with sklearn method is [[11.04536102]]\n"
     ]
    }
   ],
   "source": [
    "# importing the module\n",
    "from sklearn.metrics.pairwise import euclidean_distances\n",
    "ed_c1d1_sklearn = euclidean_distances(d1,c1)\n",
    "ed_c2d1_sklearn = euclidean_distances(d1,c2)\n",
    "#printing the result\n",
    "print(f\"the euclidean distance between c1 cluster and d1 datapoint with sklearn method is {ed_c1d1_sklearn}\")\n",
    "print(f\"the euclidean distance between c2 cluster and d1 datapoint with sklearn method is {ed_c2d1_sklearn}\")"
   ]
  },
  {
   "attachments": {},
   "cell_type": "markdown",
   "metadata": {},
   "source": [
    "Now that our theory has been proven with both numpy and sklearn method , we can safely say that the datapointd1 belongs with c2 cluster. Let's cacluate the new centroid now for c2 cluster. It is simply addition of new added value to the existing centroid value and division by 2 and we have 2 elements in the cluster now."
   ]
  },
  {
   "attachments": {},
   "cell_type": "markdown",
   "metadata": {},
   "source": [
    "First let's take things manually , in c2 array we have [10,86] and in d1 array we have [9,75] so ideally our new centroid for c2 should be ([10+9]/2,[86+75]/2) or (9.5,80.5). Lets find out"
   ]
  },
  {
   "cell_type": "code",
   "execution_count": 46,
   "metadata": {},
   "outputs": [
    {
     "name": "stdout",
     "output_type": "stream",
     "text": [
      "The new centroid values for c2 cluster is [[ 9.5 80.5]]\n"
     ]
    }
   ],
   "source": [
    "c2 = (c2+d1)/2\n",
    "print(f\"The new centroid values for c2 cluster is {c2}\")"
   ]
  },
  {
   "cell_type": "code",
   "execution_count": null,
   "metadata": {},
   "outputs": [],
   "source": []
  }
 ],
 "metadata": {
  "kernelspec": {
   "display_name": "github1",
   "language": "python",
   "name": "python3"
  },
  "language_info": {
   "codemirror_mode": {
    "name": "ipython",
    "version": 3
   },
   "file_extension": ".py",
   "mimetype": "text/x-python",
   "name": "python",
   "nbconvert_exporter": "python",
   "pygments_lexer": "ipython3",
   "version": "3.10.8"
  },
  "orig_nbformat": 4
 },
 "nbformat": 4,
 "nbformat_minor": 2
}
