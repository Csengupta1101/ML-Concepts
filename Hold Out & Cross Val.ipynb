{
 "cells": [
  {
   "attachments": {},
   "cell_type": "markdown",
   "metadata": {},
   "source": [
    "#### The Method Information\n",
    "\n",
    "-   We all know that in a supervised classifier ML problem we split the data into training and testing set. If to simplify this more , we have a total number of 10 data points , it's a bank customer data for loan prediction. each data point contains four columns. \n",
    "\n",
    "            -   Cust_id\n",
    "            -   CIBIL Score\n",
    "            -   Annual Income\n",
    "            -   Loan to be given (Yes or No) - Target Variable\n"
   ]
  },
  {
   "cell_type": "code",
   "execution_count": 1,
   "metadata": {},
   "outputs": [],
   "source": [
    "# Lets create a dataframe here with neccessary libraries\n",
    "import pandas as pd\n",
    "bank = pd.DataFrame(data=[['cut_01',750,550000,'Yes'],\n",
    "                          ['cut_02',760,450000,'Yes'],\n",
    "                          ['cut_03',650,390000,'No'],\n",
    "                          ['cut_04',680,1050000,'Yes'],\n",
    "                          ['cut_05',710,450000,'No'],\n",
    "                          ['cut_06',690,500000,'No'],\n",
    "                          ['cut_07',720,550000,'No'],\n",
    "                          ['cut_08',700,350000,'No'],\n",
    "                          ['cut_09',630,850000,'No'],\n",
    "                          ['cut_10',660,1550000,'Yes']],columns=['Cust_id','CIBIL','Annual_Income','Loan'])"
   ]
  },
  {
   "cell_type": "code",
   "execution_count": 2,
   "metadata": {},
   "outputs": [
    {
     "data": {
      "text/html": [
       "<div>\n",
       "<style scoped>\n",
       "    .dataframe tbody tr th:only-of-type {\n",
       "        vertical-align: middle;\n",
       "    }\n",
       "\n",
       "    .dataframe tbody tr th {\n",
       "        vertical-align: top;\n",
       "    }\n",
       "\n",
       "    .dataframe thead th {\n",
       "        text-align: right;\n",
       "    }\n",
       "</style>\n",
       "<table border=\"1\" class=\"dataframe\">\n",
       "  <thead>\n",
       "    <tr style=\"text-align: right;\">\n",
       "      <th></th>\n",
       "      <th>Cust_id</th>\n",
       "      <th>CIBIL</th>\n",
       "      <th>Annual_Income</th>\n",
       "      <th>Loan</th>\n",
       "    </tr>\n",
       "  </thead>\n",
       "  <tbody>\n",
       "    <tr>\n",
       "      <th>0</th>\n",
       "      <td>cut_01</td>\n",
       "      <td>750</td>\n",
       "      <td>550000</td>\n",
       "      <td>Yes</td>\n",
       "    </tr>\n",
       "    <tr>\n",
       "      <th>1</th>\n",
       "      <td>cut_02</td>\n",
       "      <td>760</td>\n",
       "      <td>450000</td>\n",
       "      <td>Yes</td>\n",
       "    </tr>\n",
       "    <tr>\n",
       "      <th>2</th>\n",
       "      <td>cut_03</td>\n",
       "      <td>650</td>\n",
       "      <td>390000</td>\n",
       "      <td>No</td>\n",
       "    </tr>\n",
       "    <tr>\n",
       "      <th>3</th>\n",
       "      <td>cut_04</td>\n",
       "      <td>680</td>\n",
       "      <td>1050000</td>\n",
       "      <td>Yes</td>\n",
       "    </tr>\n",
       "    <tr>\n",
       "      <th>4</th>\n",
       "      <td>cut_05</td>\n",
       "      <td>710</td>\n",
       "      <td>450000</td>\n",
       "      <td>No</td>\n",
       "    </tr>\n",
       "  </tbody>\n",
       "</table>\n",
       "</div>"
      ],
      "text/plain": [
       "  Cust_id  CIBIL  Annual_Income Loan\n",
       "0  cut_01    750         550000  Yes\n",
       "1  cut_02    760         450000  Yes\n",
       "2  cut_03    650         390000   No\n",
       "3  cut_04    680        1050000  Yes\n",
       "4  cut_05    710         450000   No"
      ]
     },
     "execution_count": 2,
     "metadata": {},
     "output_type": "execute_result"
    }
   ],
   "source": [
    "bank.head()"
   ]
  },
  {
   "attachments": {},
   "cell_type": "markdown",
   "metadata": {},
   "source": [
    "-   Now out of this 10 data points , we need to do a split of training and testing. Based on the training data the Model will be trained and then the model will be evaluated against the test dataset. \n",
    "-   The method states that while doing this splitting if we keep more number of data in the training data set , the our model will be well trained just like the situation where a teacher is imparting more and more knowledge into the student so that they perform well in the exam. In the same context if our model has more training data into it then it is bound to perform better with higher accuracy and lower error rate.\n",
    "-   The method also states thet if on the contray we take more data into the test dataset , then it will greatly help in evaluating the model , in terms of error rate and accuracy , just like before main exam if multiple tests are taken , then evaluating those tests , it would be easier to identify the strength and weaknesses of the student and accordingly the student can prepare for the main exam"
   ]
  },
  {
   "attachments": {},
   "cell_type": "markdown",
   "metadata": {},
   "source": [
    "#### Example of including more data into training dataset"
   ]
  },
  {
   "cell_type": "markdown",
   "metadata": {},
   "source": []
  }
 ],
 "metadata": {
  "kernelspec": {
   "display_name": "github1",
   "language": "python",
   "name": "python3"
  },
  "language_info": {
   "codemirror_mode": {
    "name": "ipython",
    "version": 3
   },
   "file_extension": ".py",
   "mimetype": "text/x-python",
   "name": "python",
   "nbconvert_exporter": "python",
   "pygments_lexer": "ipython3",
   "version": "3.10.8"
  },
  "orig_nbformat": 4
 },
 "nbformat": 4,
 "nbformat_minor": 2
}
