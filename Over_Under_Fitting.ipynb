{
 "cells": [
  {
   "attachments": {},
   "cell_type": "markdown",
   "metadata": {},
   "source": [
    "#### Overfitting"
   ]
  },
  {
   "attachments": {},
   "cell_type": "markdown",
   "metadata": {},
   "source": [
    "When we provide too many feature inputs in our training data then the model turns out to be a overfitted model. Let's take an example. We have a dataset where shapes of different objects are provided. The features are state as below -\n",
    "\n",
    "    -   Shape\n",
    "    -   Radius\n",
    "    -   Weight\n",
    "    -   Usage\n",
    "\n",
    "Looks fine , suppose the object in discussion is a ball and the balls those are present in the data are consisiting of below specifications\n",
    "\n",
    "    -   Shape  - Round\n",
    "    -   Radius - 5.6 cm\n",
    "    -   Weight - 150 gm to 250 gm\n",
    "    -   Usage  - Play\n",
    "\n",
    "Now let's say we feed our model with all of these data and train the model , now the model knows that a ball must be round , weighted between 150-250 gm but must contain a radius of 5.6 cm and is used for playing.\n",
    "\n",
    "Now let's say a new data point comes in where it is a ball , the feture of that data is as below -\n",
    "\n",
    "    -   Shape  - Round\n",
    "    -   Radius - 7.6 cm\n",
    "    -   Weight - 225 gm\n",
    "    -   Usage  - Play\n",
    "\n",
    "We can see that apart from radius all other data points are matching properly for the new data here. But as our model only know that a ball's radius can only be 5.6 cm hence it will refuse the identify this new data as a ball despite the fact that it is a ball.\n"
   ]
  },
  {
   "cell_type": "code",
   "execution_count": null,
   "metadata": {},
   "outputs": [],
   "source": [
    "# Code example\n",
    "# Importing libraries\n",
    "import pandas as pd\n",
    "import numpy as np\n",
    "import seaborn as sns\n",
    "from sklearn.preprocessing import St"
   ]
  }
 ],
 "metadata": {
  "language_info": {
   "name": "python"
  },
  "orig_nbformat": 4
 },
 "nbformat": 4,
 "nbformat_minor": 2
}
