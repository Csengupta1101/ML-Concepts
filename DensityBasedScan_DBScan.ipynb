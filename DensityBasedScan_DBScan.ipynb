{
 "cells": [
  {
   "attachments": {},
   "cell_type": "markdown",
   "metadata": {},
   "source": [
    "This particluar method is a clustering method and this helps in clustering our data based on density, its a classification method in machine learning."
   ]
  },
  {
   "attachments": {},
   "cell_type": "markdown",
   "metadata": {},
   "source": [
    "Two major inputs for the algorithm\n",
    "\n",
    "    -   epsilon - This is just the radius created with the center point (our data point)\n",
    "    -   Min Point - Default value for this is 3 in the algorithm and this suggests that there should be minimum of three data points inside of the circle that's created with the epsilon radius.\n",
    "    -   As discussed above , if this minimum three point criteria is fulfilled here then the central point denoted over in the previous section will be called as a core point."
   ]
  },
  {
   "attachments": {},
   "cell_type": "markdown",
   "metadata": {},
   "source": [
    "Boundary & Noise point\n",
    "\n",
    "    -   Suppose a data point has only one core point as neighbor and not satisfying the requirement of minimum 3 points within it's circle , it will be called as a boundary point\n",
    "    -   If a data point remains completely aloof and it's radius circle doesn't include any other core point or data point , then that particular data point will be called as noise point/outliers"
   ]
  },
  {
   "cell_type": "markdown",
   "metadata": {},
   "source": []
  }
 ],
 "metadata": {
  "language_info": {
   "name": "python"
  },
  "orig_nbformat": 4
 },
 "nbformat": 4,
 "nbformat_minor": 2
}
