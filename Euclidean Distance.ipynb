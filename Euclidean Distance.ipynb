{
 "cells": [
  {
   "attachments": {},
   "cell_type": "markdown",
   "metadata": {},
   "source": [
    "We are familiar with Multiple type of distance in the world of machine learning , Manhattan distance , cosine similiarity distance etc , But the particular distance in discussion today is Euclidean distance , and we will look into it's feature and see how it helps in solving the clustering  problem statements.  "
   ]
  },
  {
   "cell_type": "code",
   "execution_count": 1,
   "metadata": {},
   "outputs": [],
   "source": [
    "# Let's create a dataframe using pandas first for our calculation\n",
    "import pandas as pd\n",
    "df = pd.DataFrame(data=[[12,95],\n",
    "                  [10,86],\n",
    "                  [9,75],\n",
    "                  [11,98],\n",
    "                  [5,45],\n",
    "                  [6,59],\n",
    "                  [4,28]],columns=['Hours Studied','Marks Obtained'])"
   ]
  },
  {
   "cell_type": "code",
   "execution_count": 2,
   "metadata": {},
   "outputs": [
    {
     "data": {
      "text/html": [
       "<div>\n",
       "<style scoped>\n",
       "    .dataframe tbody tr th:only-of-type {\n",
       "        vertical-align: middle;\n",
       "    }\n",
       "\n",
       "    .dataframe tbody tr th {\n",
       "        vertical-align: top;\n",
       "    }\n",
       "\n",
       "    .dataframe thead th {\n",
       "        text-align: right;\n",
       "    }\n",
       "</style>\n",
       "<table border=\"1\" class=\"dataframe\">\n",
       "  <thead>\n",
       "    <tr style=\"text-align: right;\">\n",
       "      <th></th>\n",
       "      <th>Hours Studied</th>\n",
       "      <th>Marks Obtained</th>\n",
       "    </tr>\n",
       "  </thead>\n",
       "  <tbody>\n",
       "    <tr>\n",
       "      <th>0</th>\n",
       "      <td>12</td>\n",
       "      <td>95</td>\n",
       "    </tr>\n",
       "    <tr>\n",
       "      <th>1</th>\n",
       "      <td>10</td>\n",
       "      <td>86</td>\n",
       "    </tr>\n",
       "    <tr>\n",
       "      <th>2</th>\n",
       "      <td>9</td>\n",
       "      <td>75</td>\n",
       "    </tr>\n",
       "    <tr>\n",
       "      <th>3</th>\n",
       "      <td>11</td>\n",
       "      <td>98</td>\n",
       "    </tr>\n",
       "    <tr>\n",
       "      <th>4</th>\n",
       "      <td>5</td>\n",
       "      <td>45</td>\n",
       "    </tr>\n",
       "  </tbody>\n",
       "</table>\n",
       "</div>"
      ],
      "text/plain": [
       "   Hours Studied  Marks Obtained\n",
       "0             12              95\n",
       "1             10              86\n",
       "2              9              75\n",
       "3             11              98\n",
       "4              5              45"
      ]
     },
     "execution_count": 2,
     "metadata": {},
     "output_type": "execute_result"
    }
   ],
   "source": [
    "df.head()"
   ]
  },
  {
   "attachments": {},
   "cell_type": "markdown",
   "metadata": {},
   "source": [
    "Now just for our understanding , let's take index 0 and 1 as our two clusters as C1 and C2. Then we will calculate all the other indexed data point's euclidean distance with these clusters. by cluster we simply mean two seggregated areas where most of the datas are scattered. let us visualize the data first to understand the cluster concept over here."
   ]
  },
  {
   "cell_type": "code",
   "execution_count": 3,
   "metadata": {},
   "outputs": [],
   "source": [
    "from matplotlib import pyplot as plt\n",
    "%matplotlib inline"
   ]
  },
  {
   "cell_type": "code",
   "execution_count": 4,
   "metadata": {},
   "outputs": [
    {
     "data": {
      "text/plain": [
       "<matplotlib.collections.PathCollection at 0x18e280f64a0>"
      ]
     },
     "execution_count": 4,
     "metadata": {},
     "output_type": "execute_result"
    },
    {
     "data": {
      "image/png": "[encoded data removed]",
      "text/plain": [
       "<Figure size 432x288 with 1 Axes>"
      ]
     },
     "metadata": {
      "needs_background": "light"
     },
     "output_type": "display_data"
    }
   ],
   "source": [
    "#display the data\n",
    "plt.scatter(df['Hours Studied'],df['Marks Obtained'])"
   ]
  },
  {
   "attachments": {},
   "cell_type": "markdown",
   "metadata": {},
   "source": [
    "We can somehow identify 2 clusters in the data.. let's call this clusers c1 and c2 , and randomly select 2 centroids here from which we will find out the euclidean distance of other data points."
   ]
  },
  {
   "cell_type": "code",
   "execution_count": 5,
   "metadata": {},
   "outputs": [],
   "source": [
    "c1 = df.iloc[0]\n",
    "c2 = df.iloc[1]"
   ]
  },
  {
   "cell_type": "code",
   "execution_count": 6,
   "metadata": {},
   "outputs": [
    {
     "data": {
      "text/plain": [
       "Hours Studied     12\n",
       "Marks Obtained    95\n",
       "Name: 0, dtype: int64"
      ]
     },
     "execution_count": 6,
     "metadata": {},
     "output_type": "execute_result"
    }
   ],
   "source": [
    "c1.head()"
   ]
  },
  {
   "cell_type": "code",
   "execution_count": 7,
   "metadata": {},
   "outputs": [
    {
     "data": {
      "text/plain": [
       "Hours Studied     10\n",
       "Marks Obtained    86\n",
       "Name: 1, dtype: int64"
      ]
     },
     "execution_count": 7,
     "metadata": {},
     "output_type": "execute_result"
    }
   ],
   "source": [
    "c2.head()"
   ]
  },
  {
   "attachments": {},
   "cell_type": "markdown",
   "metadata": {},
   "source": [
    "Now let's go ahead and calculate the euclidean distance of each data point with our clusters , we will check out both the numpy library procedure and the scikit learn library method over here."
   ]
  },
  {
   "cell_type": "code",
   "execution_count": 8,
   "metadata": {},
   "outputs": [],
   "source": [
    "#importing numpy and converting our clusters into numpy arrays\n",
    "import numpy as np\n",
    "c1 = np.array([c1])\n",
    "c2 = np.array([c2])"
   ]
  },
  {
   "cell_type": "code",
   "execution_count": 10,
   "metadata": {},
   "outputs": [
    {
     "name": "stdout",
     "output_type": "stream",
     "text": [
      "the c1 cluster data points are [[12 95]] and it's data type is <class 'numpy.ndarray'>\n",
      "the c2 cluster data points are [[10 86]] and it's data type is <class 'numpy.ndarray'>\n"
     ]
    }
   ],
   "source": [
    "print(f\"the c1 cluster data points are {c1} and it's data type is {type(c1)}\")\n",
    "print(f\"the c2 cluster data points are {c2} and it's data type is {type(c2)}\")"
   ]
  },
  {
   "attachments": {},
   "cell_type": "markdown",
   "metadata": {},
   "source": [
    "Now from our main dataframe let's take the 2nd indexed data and convert it into a numpy array. Then we will check this datapoint's euclidean distance with both c1 and c2"
   ]
  },
  {
   "cell_type": "code",
   "execution_count": 11,
   "metadata": {},
   "outputs": [],
   "source": [
    "d1 = np.array([df.iloc[2]])"
   ]
  },
  {
   "attachments": {},
   "cell_type": "markdown",
   "metadata": {},
   "source": [
    "##### Numpy Method of Checking the Euclidean Distance"
   ]
  },
  {
   "cell_type": "code",
   "execution_count": 12,
   "metadata": {},
   "outputs": [
    {
     "name": "stdout",
     "output_type": "stream",
     "text": [
      "the euclidean distance between c1 cluster and d1 datapoint is 20.223748416156685\n",
      "the euclidean distance between c2 cluster and d1 datapoint is 11.045361017187261\n"
     ]
    }
   ],
   "source": [
    "# first let's find out the sum of squares\n",
    "sum_sq_c1 = np.sum(np.square(d1-c1))\n",
    "sum_sq_c2 = np.sum(np.square(d1-c2))\n",
    "# Then let's square root the result and find out the euclidean distance\n",
    "ed_c1d1 = np.sqrt(sum_sq_c1)\n",
    "ed_c2d1 = np.sqrt(sum_sq_c2)\n",
    "# Let's print our results\n",
    "print(f\"the euclidean distance between c1 cluster and d1 datapoint is {ed_c1d1}\")\n",
    "print(f\"the euclidean distance between c2 cluster and d1 datapoint is {ed_c2d1}\")"
   ]
  },
  {
   "attachments": {},
   "cell_type": "markdown",
   "metadata": {},
   "source": [
    "We can see from thee above example that d1 datapoint's euclidean distance is lesser with c2 cluster , hence it can be safely said that d1 datapoint will belong in the c2 cluster. And as the c2 cluster is getting an added data point , hence it's centroid needs to be calculated again. But first let's check the euclidean distance with sklearn library method as well."
   ]
  },
  {
   "attachments": {},
   "cell_type": "markdown",
   "metadata": {},
   "source": [
    "##### Sklearn Module Method Of finding the Euclidean Distance"
   ]
  },
  {
   "cell_type": "code",
   "execution_count": 13,
   "metadata": {},
   "outputs": [
    {
     "name": "stdout",
     "output_type": "stream",
     "text": [
      "the euclidean distance between c1 cluster and d1 datapoint with sklearn method is [[20.22374842]]\n",
      "the euclidean distance between c2 cluster and d1 datapoint with sklearn method is [[11.04536102]]\n"
     ]
    }
   ],
   "source": [
    "# importing the module\n",
    "from sklearn.metrics.pairwise import euclidean_distances\n",
    "ed_c1d1_sklearn = euclidean_distances(d1,c1)\n",
    "ed_c2d1_sklearn = euclidean_distances(d1,c2)\n",
    "#printing the result\n",
    "print(f\"the euclidean distance between c1 cluster and d1 datapoint with sklearn method is {ed_c1d1_sklearn}\")\n",
    "print(f\"the euclidean distance between c2 cluster and d1 datapoint with sklearn method is {ed_c2d1_sklearn}\")"
   ]
  },
  {
   "attachments": {},
   "cell_type": "markdown",
   "metadata": {},
   "source": [
    "Now that our theory has been proven with both numpy and sklearn method , we can safely say that the datapointd1 belongs with c2 cluster. Let's cacluate the new centroid now for c2 cluster. It is simply addition of new added value to the existing centroid value and division by 2 and we have 2 elements in the cluster now. First let's take things manually , in c2 array we have [10,86] and in d1 array we have [9,75] so ideally our new centroid for c2 should be ([10+9]/2,[86+75]/2) or (9.5,80.5). Lets find out"
   ]
  },
  {
   "cell_type": "code",
   "execution_count": 14,
   "metadata": {},
   "outputs": [
    {
     "name": "stdout",
     "output_type": "stream",
     "text": [
      "The new centroid values for c2 cluster is [[ 9.5 80.5]]\n"
     ]
    }
   ],
   "source": [
    "c2 = (c2+d1)/2\n",
    "print(f\"The new centroid values for c2 cluster is {c2}\")"
   ]
  },
  {
   "attachments": {},
   "cell_type": "markdown",
   "metadata": {},
   "source": [
    "Now the next calculations will be calculated based on the new centroid of c2. Each time a data point gets added to a cluster , for that cluster the centroid value will keep on changing. Hope this gives you a good insight on Euclidean distance and it's workaround"
   ]
  },
  {
   "cell_type": "markdown",
   "metadata": {},
   "source": []
  }
 ],
 "metadata": {
  "kernelspec": {
   "display_name": "github1",
   "language": "python",
   "name": "python3"
  },
  "language_info": {
   "codemirror_mode": {
    "name": "ipython",
    "version": 3
   },
   "file_extension": ".py",
   "mimetype": "text/x-python",
   "name": "python",
   "nbconvert_exporter": "python",
   "pygments_lexer": "ipython3",
   "version": "3.10.8"
  },
  "orig_nbformat": 4
 },
 "nbformat": 4,
 "nbformat_minor": 2
}
