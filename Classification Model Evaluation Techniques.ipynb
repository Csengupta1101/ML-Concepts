{
 "cells": [
  {
   "attachments": {},
   "cell_type": "markdown",
   "metadata": {},
   "source": [
    "Unlike regression , classification models doesn't fit into the scenario where our target variable is continous in nature , rather it helps in the scenario where our target output is classifying a set of data , it can be either binary or non binary , \n",
    "\n",
    "    -   Binary Classification examples\n",
    "        -   True\n",
    "        -   False\n",
    "    -   Non Binary Classification examples\n",
    "        -   small\n",
    "        -   medium\n",
    "        -   large\n",
    "        -   extra large "
   ]
  },
  {
   "attachments": {},
   "cell_type": "markdown",
   "metadata": {},
   "source": [
    "There are various models and algorithms used for different kinds of classification as below\n",
    "\n",
    "-   Models for Binary Classification\n",
    "    -   Naive Bayes\n",
    "    -   Logistic Regression\n",
    "    -   K-Nearest Neighbors\n",
    "    -   Support Vector Machine\n",
    "    -   Decision Tree\n",
    "    -   Random Forest\n",
    "-   \n",
    "\n",
    "-   Models for Non Binary/ Multi Label Classification\n",
    "    -   Naive Bayes\n",
    "    -   K-Nearest Neighbors\n",
    "    -   Decision Tree\n",
    "    -   Random Forest"
   ]
  },
  {
   "attachments": {},
   "cell_type": "markdown",
   "metadata": {},
   "source": [
    "For these models there are certain evaluation techniques that we use -\n",
    "\n",
    "    -   Accuracy\n",
    "    -   Precision\n",
    "    -   Recall\n",
    "    -   F1 Score\n",
    "    -   ROC AUC\n",
    "    -   Confusion Matrix"
   ]
  },
  {
   "attachments": {},
   "cell_type": "markdown",
   "metadata": {},
   "source": [
    "#### Accuracy"
   ]
  },
  {
   "cell_type": "markdown",
   "metadata": {},
   "source": []
  }
 ],
 "metadata": {
  "language_info": {
   "name": "python"
  },
  "orig_nbformat": 4
 },
 "nbformat": 4,
 "nbformat_minor": 2
}
