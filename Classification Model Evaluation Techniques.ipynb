{
 "cells": [
  {
   "attachments": {},
   "cell_type": "markdown",
   "metadata": {},
   "source": [
    "Unlike regression , classification models doesn't fit into the scenario where our target variable is continous in nature , rather it helps in the scenario where our target output is classifying a set of data , it can be either binary or non binary , \n",
    "\n",
    "    -   Binary Classification examples\n",
    "        -   True\n",
    "        -   False\n",
    "    -   Non Binary Classification examples\n",
    "        -   small\n",
    "        -   medium\n",
    "        -   large\n",
    "        -   extra large "
   ]
  },
  {
   "attachments": {},
   "cell_type": "markdown",
   "metadata": {},
   "source": [
    "There are various models and algorithms used for different kinds of classification as below\n",
    "\n",
    "    -   Models for Binary Classification\n",
    "        -   Naive Bayes\n",
    "        -   Logistic Regression\n",
    "        -   K-Nearest Neighbors\n",
    "        -   Support Vector Machine\n",
    "        -   Decision Tree\n",
    "        -   Random Forest\n",
    "\n",
    "    -   Models for Non Binary/ Multi Label Classification\n",
    "        -   Naive Bayes\n",
    "        -   Gradient Boosting\n",
    "        -   K-Nearest Neighbors\n",
    "        -   Decision Tree\n",
    "        -   Random Forest"
   ]
  },
  {
   "attachments": {},
   "cell_type": "markdown",
   "metadata": {},
   "source": [
    "For these models there are certain evaluation techniques that we use -\n",
    "\n",
    "    -   Accuracy\n",
    "    -   Precision\n",
    "    -   Recall\n",
    "    -   F1 Score\n",
    "    -   ROC AUC\n",
    "    -   Confusion Matrix"
   ]
  },
  {
   "attachments": {},
   "cell_type": "markdown",
   "metadata": {},
   "source": [
    "Accuracy, precision, recall, and F1 score are commonly used performance metrics in machine learning for evaluating the performance of a classification model. In this answer, I will provide code examples and explanations of how to calculate these metrics in Python.\n",
    "\n",
    "First, let's define a binary classification problem, where we are trying to classify whether a person has a disease or not based on some input features. For this example, let's assume we have a dataset with the following features: age, blood pressure, and cholesterol level. The label column indicates whether the person has the disease or not."
   ]
  },
  {
   "cell_type": "code",
   "execution_count": 1,
   "metadata": {},
   "outputs": [],
   "source": [
    "import numpy as np\n",
    "import pandas as pd\n",
    "from sklearn.model_selection import train_test_split\n",
    "from sklearn.linear_model import LogisticRegression\n",
    "\n",
    "# Create a dummy dataset\n",
    "data = pd.DataFrame({\n",
    "    'age': [30, 40, 50, 60, 70, 80, 90, 25, 35, 45, 55, 65, 75, 85],\n",
    "    'blood_pressure': [120, 130, 140, 150, 160, 170, 180, 110, 125, 135, 145, 155, 165, 175],\n",
    "    'cholesterol': [200, 210, 220, 230, 240, 250, 260, 190, 205, 215, 225, 235, 245, 255],\n",
    "    'label': [0, 0, 1, 1, 1, 1, 1, 0, 0, 0, 1, 1, 1, 1]\n",
    "})\n",
    "\n",
    "# Split the dataset into training and testing sets\n",
    "X_train, X_test, y_train, y_test = train_test_split(data[['age', 'blood_pressure', 'cholesterol']], data['label'], test_size=0.2, random_state=42)\n",
    "\n",
    "# Fit a logistic regression model to the training data\n",
    "clf = LogisticRegression(random_state=42)\n",
    "clf.fit(X_train, y_train)\n",
    "\n",
    "# Predict the labels for the test data\n",
    "y_pred = clf.predict(X_test)\n"
   ]
  },
  {
   "cell_type": "code",
   "execution_count": 24,
   "metadata": {},
   "outputs": [
    {
     "name": "stdout",
     "output_type": "stream",
     "text": [
      "9     0\n",
      "11    1\n",
      "0     0\n",
      "Name: label, dtype: int64\n"
     ]
    }
   ],
   "source": [
    "''' Now we used logistic regression here in this model , all the predicted data points are stored in ypred and ytest is storing all the actual data points , let's go by the formula of\n",
    "accuracy , precision and recall now'''\n",
    "\n",
    "# Accuracy - (TN+TP)/(TN+FP+TP+FN) - Not ideal for imbalanced datasets\n",
    "# Precision - TP/(TP+FP) - ideally should be 1 for a good classifier . intends to make false positive as 0\n",
    "# Recall - TP/(TP+FN) - ideally should be 1 for a good classifier . intends to make false negative as 0\n",
    "# F1 Score - 2* ((precision*recall)/(precision+recall)) - It becomes 1 when only precision and recall both becomes 1 , it's a harmonic mean of precision and recall\n",
    "\n",
    "''' Let's find out TP , FP , TN , FN'''\n",
    "print(y_test)"
   ]
  },
  {
   "cell_type": "code",
   "execution_count": 26,
   "metadata": {},
   "outputs": [
    {
     "name": "stdout",
     "output_type": "stream",
     "text": [
      "[1 1 0]\n"
     ]
    }
   ],
   "source": [
    "print(y_pred)"
   ]
  },
  {
   "cell_type": "code",
   "execution_count": 44,
   "metadata": {},
   "outputs": [
    {
     "name": "stdout",
     "output_type": "stream",
     "text": [
      "<class 'pandas.core.series.Series'>\n",
      "<class 'numpy.ndarray'>\n"
     ]
    }
   ],
   "source": [
    "# ypred -1 and ytest - 1 then it's TP\n",
    "# ypred -0 and ytest - 0 then it's TN \n",
    "# ypred -1 and ytest - 0 then it's FP\n",
    "print(type(y_test))\n",
    "print(type(y_pred))"
   ]
  },
  {
   "cell_type": "code",
   "execution_count": 45,
   "metadata": {},
   "outputs": [],
   "source": [
    "ytest = np.array(y_test)\n",
    "ypred = np.array(y_pred)"
   ]
  },
  {
   "cell_type": "code",
   "execution_count": 51,
   "metadata": {},
   "outputs": [],
   "source": [
    "TP = 0\n",
    "TN = 0\n",
    "FP = 0\n",
    "FN = 0\n",
    "for i in range(len(ypred)):\n",
    "    if ypred[i] == ytest[i] == 1:\n",
    "        TP += 1\n",
    "    elif ypred[i] == ytest[i] == 0:\n",
    "        TN += 1\n",
    "    elif ypred[i] == 1 and ytest[i] == 0:\n",
    "        FP += 1\n",
    "    elif ypred[i] == 0 and ytest[i] == 1:\n",
    "        FN += 1"
   ]
  },
  {
   "cell_type": "code",
   "execution_count": 52,
   "metadata": {},
   "outputs": [
    {
     "name": "stdout",
     "output_type": "stream",
     "text": [
      "True positive is 1\n",
      "False positive is 1\n",
      "True negative is 1\n",
      "False negative is 0\n"
     ]
    }
   ],
   "source": [
    "print(f\"True positive is {TP}\")\n",
    "print(f\"False positive is {FP}\")\n",
    "print(f\"True negative is {TN}\")\n",
    "print(f\"False negative is {FN}\")"
   ]
  },
  {
   "cell_type": "code",
   "execution_count": 53,
   "metadata": {},
   "outputs": [
    {
     "name": "stdout",
     "output_type": "stream",
     "text": [
      "accuracy is 0.6666666666666666\n",
      "precision is 0.5\n",
      "recall is 1.0\n",
      "f1 score is 0.6666666666666666\n"
     ]
    }
   ],
   "source": [
    "''' Let's now apply our formla to identify all metrics '''\n",
    "accuracy = (TN+TP)/(TN+FP+TP+FN)\n",
    "Precision = TP/(TP+FP)\n",
    "Recall = TP/(TP+FN)\n",
    "f1_score = 2*((Precision*Recall)/(Precision+Recall))\n",
    "print(f\"accuracy is {accuracy}\")\n",
    "print(f\"precision is {Precision}\")\n",
    "print(f\"recall is {Recall}\")\n",
    "print(f\"f1 score is {f1_score}\")\n"
   ]
  },
  {
   "cell_type": "code",
   "execution_count": 56,
   "metadata": {},
   "outputs": [
    {
     "name": "stdout",
     "output_type": "stream",
     "text": [
      "sklearn accuracy is 0.6666666666666666\n",
      "sklearn precision is 1.0\n",
      "sklearn recall is 0.5\n",
      "sklearn f1 score is 0.6666666666666666\n"
     ]
    }
   ],
   "source": [
    "''' Now Let's find all of this with sklearn method as well'''\n",
    "from sklearn.metrics import accuracy_score\n",
    "from sklearn.metrics import recall_score\n",
    "from sklearn.metrics import precision_score\n",
    "from sklearn.metrics import f1_score\n",
    "print(f\"sklearn accuracy is {accuracy_score(ypred,ytest)}\")\n",
    "print(f\"sklearn precision is {precision_score(ypred,ytest)}\")\n",
    "print(f\"sklearn recall is {recall_score(ypred,ytest)}\")\n",
    "print(f\"sklearn f1 score is {f1_score(ypred,ytest)}\")"
   ]
  },
  {
   "attachments": {},
   "cell_type": "markdown",
   "metadata": {},
   "source": [
    "#### Accuracy"
   ]
  },
  {
   "attachments": {},
   "cell_type": "markdown",
   "metadata": {},
   "source": [
    "In Classification models the work around we have is simplfied with few terms , one of them is True Positive. Let me make you understand that with an example. Suppose our model is trying to predict if there will be rain today on different areas of a city . So the probable outcome is 2 over here. \"Rain\" and \"No Rain\". Suppose there are 10 records in our data based on each area. \n",
    "\n",
    "    -    Model prediction\n",
    "        -   6 Rain\n",
    "        -   4 No Rain\n",
    "        \n",
    "    -   Actual Status\n",
    "        -   3 Rain\n",
    "        -   7 No Rain\n",
    "    \n",
    "So out of the 6 predictions , only 3 turned out to be true , so our true positive count is 3 here. Let's understand this by the code here\n",
    "\n",
    "Let's also understand True negative here , wherever in our records , the prediction and the actual both are having the same value as \"No Rain\" will be called as True Negative.\n",
    "In here 4 prediction says no rain and 7 actual value which is higher than 4 says no rain , so our true negative value will be 4 here."
   ]
  },
  {
   "cell_type": "code",
   "execution_count": 2,
   "metadata": {},
   "outputs": [],
   "source": [
    "# importing libraries\n",
    "import pandas as pd\n",
    "import numpy as np"
   ]
  },
  {
   "cell_type": "code",
   "execution_count": 3,
   "metadata": {},
   "outputs": [],
   "source": [
    "rain_df = pd.DataFrame(data = [[\"area 1\",\"yes\",\"Yes\"],\n",
    "                               [\"area 2\",\"No\",\"Yes\"],\n",
    "                               [\"area 3\",\"No\",\"No\"],\n",
    "                               [\"area 4\",\"yes\",\"Yes\"],\n",
    "                               [\"area 5\",\"yes\",\"No\"],\n",
    "                               [\"area 6\",\"No\",\"Yes\"],\n",
    "                               [\"area 7\",\"No\",\"Yes\"],\n",
    "                               [\"area 8\",\"No\",\"No\"],\n",
    "                               [\"area 9\",\"No\",\"No\"],\n",
    "                               [\"area 10\",\"yes\",\"Yes\"]],columns = [\"Area Code\",\"Prediction\",\"Actual\"])"
   ]
  },
  {
   "cell_type": "code",
   "execution_count": 4,
   "metadata": {},
   "outputs": [
    {
     "data": {
      "text/html": [
       "<div>\n",
       "<style scoped>\n",
       "    .dataframe tbody tr th:only-of-type {\n",
       "        vertical-align: middle;\n",
       "    }\n",
       "\n",
       "    .dataframe tbody tr th {\n",
       "        vertical-align: top;\n",
       "    }\n",
       "\n",
       "    .dataframe thead th {\n",
       "        text-align: right;\n",
       "    }\n",
       "</style>\n",
       "<table border=\"1\" class=\"dataframe\">\n",
       "  <thead>\n",
       "    <tr style=\"text-align: right;\">\n",
       "      <th></th>\n",
       "      <th>Area Code</th>\n",
       "      <th>Prediction</th>\n",
       "      <th>Actual</th>\n",
       "    </tr>\n",
       "  </thead>\n",
       "  <tbody>\n",
       "    <tr>\n",
       "      <th>0</th>\n",
       "      <td>area 1</td>\n",
       "      <td>yes</td>\n",
       "      <td>Yes</td>\n",
       "    </tr>\n",
       "    <tr>\n",
       "      <th>1</th>\n",
       "      <td>area 2</td>\n",
       "      <td>No</td>\n",
       "      <td>Yes</td>\n",
       "    </tr>\n",
       "    <tr>\n",
       "      <th>2</th>\n",
       "      <td>area 3</td>\n",
       "      <td>No</td>\n",
       "      <td>No</td>\n",
       "    </tr>\n",
       "    <tr>\n",
       "      <th>3</th>\n",
       "      <td>area 4</td>\n",
       "      <td>yes</td>\n",
       "      <td>Yes</td>\n",
       "    </tr>\n",
       "    <tr>\n",
       "      <th>4</th>\n",
       "      <td>area 5</td>\n",
       "      <td>yes</td>\n",
       "      <td>No</td>\n",
       "    </tr>\n",
       "  </tbody>\n",
       "</table>\n",
       "</div>"
      ],
      "text/plain": [
       "  Area Code Prediction Actual\n",
       "0    area 1        yes    Yes\n",
       "1    area 2         No    Yes\n",
       "2    area 3         No     No\n",
       "3    area 4        yes    Yes\n",
       "4    area 5        yes     No"
      ]
     },
     "execution_count": 4,
     "metadata": {},
     "output_type": "execute_result"
    }
   ],
   "source": [
    "rain_df.head()"
   ]
  },
  {
   "cell_type": "code",
   "execution_count": 5,
   "metadata": {},
   "outputs": [],
   "source": [
    "# converting yes no into 1 ,0 with label encoder\n",
    "from sklearn.preprocessing import LabelEncoder"
   ]
  },
  {
   "cell_type": "code",
   "execution_count": 6,
   "metadata": {},
   "outputs": [],
   "source": [
    "le = LabelEncoder()\n",
    "rain_df[\"Prediction\"] = le.fit_transform(rain_df[\"Prediction\"])\n",
    "rain_df[\"Actual\"] = le.fit_transform(rain_df[\"Actual\"])\n"
   ]
  },
  {
   "cell_type": "code",
   "execution_count": 7,
   "metadata": {},
   "outputs": [
    {
     "data": {
      "text/html": [
       "<div>\n",
       "<style scoped>\n",
       "    .dataframe tbody tr th:only-of-type {\n",
       "        vertical-align: middle;\n",
       "    }\n",
       "\n",
       "    .dataframe tbody tr th {\n",
       "        vertical-align: top;\n",
       "    }\n",
       "\n",
       "    .dataframe thead th {\n",
       "        text-align: right;\n",
       "    }\n",
       "</style>\n",
       "<table border=\"1\" class=\"dataframe\">\n",
       "  <thead>\n",
       "    <tr style=\"text-align: right;\">\n",
       "      <th></th>\n",
       "      <th>Area Code</th>\n",
       "      <th>Prediction</th>\n",
       "      <th>Actual</th>\n",
       "    </tr>\n",
       "  </thead>\n",
       "  <tbody>\n",
       "    <tr>\n",
       "      <th>0</th>\n",
       "      <td>area 1</td>\n",
       "      <td>1</td>\n",
       "      <td>1</td>\n",
       "    </tr>\n",
       "    <tr>\n",
       "      <th>1</th>\n",
       "      <td>area 2</td>\n",
       "      <td>0</td>\n",
       "      <td>1</td>\n",
       "    </tr>\n",
       "    <tr>\n",
       "      <th>2</th>\n",
       "      <td>area 3</td>\n",
       "      <td>0</td>\n",
       "      <td>0</td>\n",
       "    </tr>\n",
       "    <tr>\n",
       "      <th>3</th>\n",
       "      <td>area 4</td>\n",
       "      <td>1</td>\n",
       "      <td>1</td>\n",
       "    </tr>\n",
       "    <tr>\n",
       "      <th>4</th>\n",
       "      <td>area 5</td>\n",
       "      <td>1</td>\n",
       "      <td>0</td>\n",
       "    </tr>\n",
       "  </tbody>\n",
       "</table>\n",
       "</div>"
      ],
      "text/plain": [
       "  Area Code  Prediction  Actual\n",
       "0    area 1           1       1\n",
       "1    area 2           0       1\n",
       "2    area 3           0       0\n",
       "3    area 4           1       1\n",
       "4    area 5           1       0"
      ]
     },
     "execution_count": 7,
     "metadata": {},
     "output_type": "execute_result"
    }
   ],
   "source": [
    "# Let's look into our new dataframe\n",
    "rain_df.head()"
   ]
  },
  {
   "cell_type": "code",
   "execution_count": 8,
   "metadata": {},
   "outputs": [],
   "source": [
    "'''Now every instance where both prediction  and actual column stores the value as 1 will be termed as true positive'''\n",
    "rain_df[\"TP Status\"] = np.where((rain_df[\"Prediction\"] == 1) & (rain_df[\"Actual\"] == 1) ,\"true positive\",\"other\")\n",
    "rain_df[\"TN Status\"] = np.where((rain_df[\"Prediction\"] == 0) & (rain_df[\"Actual\"] == 0) ,\"true negative\",\"other\")"
   ]
  },
  {
   "cell_type": "code",
   "execution_count": 9,
   "metadata": {},
   "outputs": [
    {
     "data": {
      "text/html": [
       "<div>\n",
       "<style scoped>\n",
       "    .dataframe tbody tr th:only-of-type {\n",
       "        vertical-align: middle;\n",
       "    }\n",
       "\n",
       "    .dataframe tbody tr th {\n",
       "        vertical-align: top;\n",
       "    }\n",
       "\n",
       "    .dataframe thead th {\n",
       "        text-align: right;\n",
       "    }\n",
       "</style>\n",
       "<table border=\"1\" class=\"dataframe\">\n",
       "  <thead>\n",
       "    <tr style=\"text-align: right;\">\n",
       "      <th></th>\n",
       "      <th>Area Code</th>\n",
       "      <th>Prediction</th>\n",
       "      <th>Actual</th>\n",
       "      <th>TP Status</th>\n",
       "      <th>TN Status</th>\n",
       "    </tr>\n",
       "  </thead>\n",
       "  <tbody>\n",
       "    <tr>\n",
       "      <th>0</th>\n",
       "      <td>area 1</td>\n",
       "      <td>1</td>\n",
       "      <td>1</td>\n",
       "      <td>true positive</td>\n",
       "      <td>other</td>\n",
       "    </tr>\n",
       "    <tr>\n",
       "      <th>1</th>\n",
       "      <td>area 2</td>\n",
       "      <td>0</td>\n",
       "      <td>1</td>\n",
       "      <td>other</td>\n",
       "      <td>other</td>\n",
       "    </tr>\n",
       "    <tr>\n",
       "      <th>2</th>\n",
       "      <td>area 3</td>\n",
       "      <td>0</td>\n",
       "      <td>0</td>\n",
       "      <td>other</td>\n",
       "      <td>true negative</td>\n",
       "    </tr>\n",
       "    <tr>\n",
       "      <th>3</th>\n",
       "      <td>area 4</td>\n",
       "      <td>1</td>\n",
       "      <td>1</td>\n",
       "      <td>true positive</td>\n",
       "      <td>other</td>\n",
       "    </tr>\n",
       "    <tr>\n",
       "      <th>4</th>\n",
       "      <td>area 5</td>\n",
       "      <td>1</td>\n",
       "      <td>0</td>\n",
       "      <td>other</td>\n",
       "      <td>other</td>\n",
       "    </tr>\n",
       "  </tbody>\n",
       "</table>\n",
       "</div>"
      ],
      "text/plain": [
       "  Area Code  Prediction  Actual      TP Status      TN Status\n",
       "0    area 1           1       1  true positive          other\n",
       "1    area 2           0       1          other          other\n",
       "2    area 3           0       0          other  true negative\n",
       "3    area 4           1       1  true positive          other\n",
       "4    area 5           1       0          other          other"
      ]
     },
     "execution_count": 9,
     "metadata": {},
     "output_type": "execute_result"
    }
   ],
   "source": [
    "rain_df.head()"
   ]
  },
  {
   "cell_type": "code",
   "execution_count": 10,
   "metadata": {},
   "outputs": [
    {
     "name": "stdout",
     "output_type": "stream",
     "text": [
      "10\n"
     ]
    }
   ],
   "source": [
    "# Now let's find out total number of records present in the data and store it in a variable\n",
    "total_record = sum(rain_df[\"Area Code\"].value_counts())\n",
    "print(total_record)"
   ]
  },
  {
   "cell_type": "code",
   "execution_count": 11,
   "metadata": {},
   "outputs": [
    {
     "name": "stdout",
     "output_type": "stream",
     "text": [
      "3\n"
     ]
    }
   ],
   "source": [
    "# Now let's find the total number of record where the status is True Positive and True Negative\n",
    "tp_count = len(rain_df[rain_df[\"TP Status\"]==\"true positive\"])\n",
    "print(tp_count)\n"
   ]
  },
  {
   "cell_type": "code",
   "execution_count": 12,
   "metadata": {},
   "outputs": [
    {
     "name": "stdout",
     "output_type": "stream",
     "text": [
      "3\n"
     ]
    }
   ],
   "source": [
    "tn_count = len(rain_df[rain_df[\"TN Status\"]==\"true negative\"])\n",
    "print(tn_count)"
   ]
  },
  {
   "cell_type": "code",
   "execution_count": 13,
   "metadata": {},
   "outputs": [
    {
     "name": "stdout",
     "output_type": "stream",
     "text": [
      "The accuracy is 0.6\n"
     ]
    }
   ],
   "source": [
    "# Now the accuracy is nothing but the division value of (true positive+true negative) and total records , so let's find out the accuracy as below\n",
    "accuracy = (tp_count+tn_count)/total_record\n",
    "print(f\"The accuracy is {accuracy}\")"
   ]
  },
  {
   "cell_type": "code",
   "execution_count": 14,
   "metadata": {},
   "outputs": [],
   "source": [
    "''' Now that we have found the accuracy based on maths , let's use the sklearn method that we have in place'''\n",
    "from sklearn.metrics import accuracy_score"
   ]
  },
  {
   "cell_type": "code",
   "execution_count": 15,
   "metadata": {},
   "outputs": [
    {
     "name": "stdout",
     "output_type": "stream",
     "text": [
      "the accuracy based on sklearn metrics is 0.6\n"
     ]
    }
   ],
   "source": [
    "accuracy_sklearn = accuracy_score(rain_df['Prediction'],rain_df['Actual'])\n",
    "print(f\"the accuracy based on sklearn metrics is {accuracy_sklearn}\")"
   ]
  },
  {
   "attachments": {},
   "cell_type": "markdown",
   "metadata": {},
   "source": [
    "Hence our background math is proven by the sklearn metrics as well"
   ]
  },
  {
   "attachments": {},
   "cell_type": "markdown",
   "metadata": {},
   "source": [
    "Now let's talk about false positive and false negative as well\n",
    "\n",
    "    -   Wherever the prediction says \"rain\" but actual data says \"no rain\" is False Positive\n",
    "    -   Wherever the prediction says \"No rain\" but actual data says \"rain\" is False Negative"
   ]
  },
  {
   "cell_type": "code",
   "execution_count": 16,
   "metadata": {},
   "outputs": [],
   "source": [
    "rain_df[\"FP Status\"] = np.where((rain_df[\"Prediction\"] == 1) & (rain_df[\"Actual\"] == 0) ,\"false positive\",\"other\")\n",
    "rain_df[\"FN Status\"] = np.where((rain_df[\"Prediction\"] == 0) & (rain_df[\"Actual\"] == 1) ,\"false negative\",\"other\")"
   ]
  },
  {
   "cell_type": "code",
   "execution_count": 17,
   "metadata": {},
   "outputs": [
    {
     "data": {
      "text/html": [
       "<div>\n",
       "<style scoped>\n",
       "    .dataframe tbody tr th:only-of-type {\n",
       "        vertical-align: middle;\n",
       "    }\n",
       "\n",
       "    .dataframe tbody tr th {\n",
       "        vertical-align: top;\n",
       "    }\n",
       "\n",
       "    .dataframe thead th {\n",
       "        text-align: right;\n",
       "    }\n",
       "</style>\n",
       "<table border=\"1\" class=\"dataframe\">\n",
       "  <thead>\n",
       "    <tr style=\"text-align: right;\">\n",
       "      <th></th>\n",
       "      <th>Area Code</th>\n",
       "      <th>Prediction</th>\n",
       "      <th>Actual</th>\n",
       "      <th>TP Status</th>\n",
       "      <th>TN Status</th>\n",
       "      <th>FP Status</th>\n",
       "      <th>FN Status</th>\n",
       "    </tr>\n",
       "  </thead>\n",
       "  <tbody>\n",
       "    <tr>\n",
       "      <th>0</th>\n",
       "      <td>area 1</td>\n",
       "      <td>1</td>\n",
       "      <td>1</td>\n",
       "      <td>true positive</td>\n",
       "      <td>other</td>\n",
       "      <td>other</td>\n",
       "      <td>other</td>\n",
       "    </tr>\n",
       "    <tr>\n",
       "      <th>1</th>\n",
       "      <td>area 2</td>\n",
       "      <td>0</td>\n",
       "      <td>1</td>\n",
       "      <td>other</td>\n",
       "      <td>other</td>\n",
       "      <td>other</td>\n",
       "      <td>false negative</td>\n",
       "    </tr>\n",
       "    <tr>\n",
       "      <th>2</th>\n",
       "      <td>area 3</td>\n",
       "      <td>0</td>\n",
       "      <td>0</td>\n",
       "      <td>other</td>\n",
       "      <td>true negative</td>\n",
       "      <td>other</td>\n",
       "      <td>other</td>\n",
       "    </tr>\n",
       "    <tr>\n",
       "      <th>3</th>\n",
       "      <td>area 4</td>\n",
       "      <td>1</td>\n",
       "      <td>1</td>\n",
       "      <td>true positive</td>\n",
       "      <td>other</td>\n",
       "      <td>other</td>\n",
       "      <td>other</td>\n",
       "    </tr>\n",
       "    <tr>\n",
       "      <th>4</th>\n",
       "      <td>area 5</td>\n",
       "      <td>1</td>\n",
       "      <td>0</td>\n",
       "      <td>other</td>\n",
       "      <td>other</td>\n",
       "      <td>false positive</td>\n",
       "      <td>other</td>\n",
       "    </tr>\n",
       "    <tr>\n",
       "      <th>5</th>\n",
       "      <td>area 6</td>\n",
       "      <td>0</td>\n",
       "      <td>1</td>\n",
       "      <td>other</td>\n",
       "      <td>other</td>\n",
       "      <td>other</td>\n",
       "      <td>false negative</td>\n",
       "    </tr>\n",
       "    <tr>\n",
       "      <th>6</th>\n",
       "      <td>area 7</td>\n",
       "      <td>0</td>\n",
       "      <td>1</td>\n",
       "      <td>other</td>\n",
       "      <td>other</td>\n",
       "      <td>other</td>\n",
       "      <td>false negative</td>\n",
       "    </tr>\n",
       "    <tr>\n",
       "      <th>7</th>\n",
       "      <td>area 8</td>\n",
       "      <td>0</td>\n",
       "      <td>0</td>\n",
       "      <td>other</td>\n",
       "      <td>true negative</td>\n",
       "      <td>other</td>\n",
       "      <td>other</td>\n",
       "    </tr>\n",
       "    <tr>\n",
       "      <th>8</th>\n",
       "      <td>area 9</td>\n",
       "      <td>0</td>\n",
       "      <td>0</td>\n",
       "      <td>other</td>\n",
       "      <td>true negative</td>\n",
       "      <td>other</td>\n",
       "      <td>other</td>\n",
       "    </tr>\n",
       "    <tr>\n",
       "      <th>9</th>\n",
       "      <td>area 10</td>\n",
       "      <td>1</td>\n",
       "      <td>1</td>\n",
       "      <td>true positive</td>\n",
       "      <td>other</td>\n",
       "      <td>other</td>\n",
       "      <td>other</td>\n",
       "    </tr>\n",
       "  </tbody>\n",
       "</table>\n",
       "</div>"
      ],
      "text/plain": [
       "  Area Code  Prediction  Actual      TP Status      TN Status       FP Status  \\\n",
       "0    area 1           1       1  true positive          other           other   \n",
       "1    area 2           0       1          other          other           other   \n",
       "2    area 3           0       0          other  true negative           other   \n",
       "3    area 4           1       1  true positive          other           other   \n",
       "4    area 5           1       0          other          other  false positive   \n",
       "5    area 6           0       1          other          other           other   \n",
       "6    area 7           0       1          other          other           other   \n",
       "7    area 8           0       0          other  true negative           other   \n",
       "8    area 9           0       0          other  true negative           other   \n",
       "9   area 10           1       1  true positive          other           other   \n",
       "\n",
       "        FN Status  \n",
       "0           other  \n",
       "1  false negative  \n",
       "2           other  \n",
       "3           other  \n",
       "4           other  \n",
       "5  false negative  \n",
       "6  false negative  \n",
       "7           other  \n",
       "8           other  \n",
       "9           other  "
      ]
     },
     "execution_count": 17,
     "metadata": {},
     "output_type": "execute_result"
    }
   ],
   "source": [
    "rain_df.head(10)"
   ]
  },
  {
   "attachments": {},
   "cell_type": "markdown",
   "metadata": {},
   "source": [
    "#### Precision"
   ]
  },
  {
   "attachments": {},
   "cell_type": "markdown",
   "metadata": {},
   "source": [
    "precision is calulated with the below formula \n",
    "\n",
    "    -   TruePositives / (TruePositives + FalsePositives) "
   ]
  },
  {
   "cell_type": "code",
   "execution_count": 18,
   "metadata": {},
   "outputs": [],
   "source": [
    "''' Let's find out precision based on our data and applying the above formula'''\n",
    "fp_count = len(rain_df[rain_df[\"FP Status\"]==\"false positive\"])\n",
    "fn_count = len(rain_df[rain_df[\"FN Status\"]==\"false negative\"])"
   ]
  },
  {
   "cell_type": "code",
   "execution_count": 19,
   "metadata": {},
   "outputs": [
    {
     "name": "stdout",
     "output_type": "stream",
     "text": [
      "the true positive is 3\n",
      "the true negative is 3\n",
      "the false positive is 1\n",
      "the false negative is 3\n"
     ]
    }
   ],
   "source": [
    "print(f\"the true positive is {tp_count}\")\n",
    "print(f\"the true negative is {tn_count}\")\n",
    "print(f\"the false positive is {fp_count}\")\n",
    "print(f\"the false negative is {fn_count}\")"
   ]
  },
  {
   "cell_type": "code",
   "execution_count": 20,
   "metadata": {},
   "outputs": [
    {
     "name": "stdout",
     "output_type": "stream",
     "text": [
      "the precision is 0.75\n"
     ]
    }
   ],
   "source": [
    "''' So as per the formula precision is here'''\n",
    "precision = tp_count/(tp_count+fp_count)\n",
    "print(f\"the precision is {precision}\")"
   ]
  },
  {
   "cell_type": "code",
   "execution_count": 21,
   "metadata": {},
   "outputs": [],
   "source": [
    "''' Now that we have found the precision based on maths , let's use the sklearn method that we have in place'''\n",
    "from sklearn.metrics import precision_score"
   ]
  },
  {
   "cell_type": "code",
   "execution_count": 22,
   "metadata": {},
   "outputs": [
    {
     "name": "stdout",
     "output_type": "stream",
     "text": [
      "the precision based on sklearn metrics is 0.5\n"
     ]
    }
   ],
   "source": [
    "precision_sklearn = precision_score(rain_df['Prediction'],rain_df['Actual'])\n",
    "print(f\"the precision based on sklearn metrics is {precision_sklearn}\")"
   ]
  },
  {
   "cell_type": "markdown",
   "metadata": {},
   "source": []
  }
 ],
 "metadata": {
  "kernelspec": {
   "display_name": "github1",
   "language": "python",
   "name": "python3"
  },
  "language_info": {
   "codemirror_mode": {
    "name": "ipython",
    "version": 3
   },
   "file_extension": ".py",
   "mimetype": "text/x-python",
   "name": "python",
   "nbconvert_exporter": "python",
   "pygments_lexer": "ipython3",
   "version": "3.10.8"
  },
  "orig_nbformat": 4
 },
 "nbformat": 4,
 "nbformat_minor": 2
}
